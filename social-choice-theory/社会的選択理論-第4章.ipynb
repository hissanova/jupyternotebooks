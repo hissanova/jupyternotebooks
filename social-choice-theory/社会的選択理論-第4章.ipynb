{
 "cells": [
  {
   "cell_type": "code",
   "execution_count": 1,
   "id": "983bba8f",
   "metadata": {
    "scrolled": true
   },
   "outputs": [],
   "source": [
    "%matplotlib inline\n",
    "    \n",
    "import numpy as np\n",
    "import matplotlib.pyplot as plt\n",
    "import pandas as pd"
   ]
  },
  {
   "cell_type": "code",
   "execution_count": 2,
   "id": "6b8eaca6",
   "metadata": {},
   "outputs": [],
   "source": [
    "from typing import Dict, List, NamedTuple, Tuple\n",
    "\n",
    "Voter = str\n",
    "Choice = str\n",
    "\n",
    "class Decision(NamedTuple):\n",
    "    name: str\n",
    "    preference: List[Choice]\n",
    "    weight: int\n",
    "\n",
    "def borda_scoring(decision: List[Choice], choices: List[Choice]) -> List[Tuple[str, int]]:\n",
    "    return [(ch, len(choices) - decision.index(ch)) for ch in choices]\n",
    "\n",
    "def plot_decisions(decisions: List[Decision], \n",
    "                   choices: List[Choice]):\n",
    "    \"\"\"有権者の順序付を受け取って、単峰性が見やすいようにプロットします\"\"\"\n",
    "    fig, ax = plt.subplots()\n",
    "    for decision in decisions:\n",
    "        scores = borda_scoring(decision.preference, choices)\n",
    "        xs, ys = zip(*scores)\n",
    "        ax.plot(xs, ys, marker=\"o\")\n",
    "    ax.set_xticks(choices)\n",
    "    ax.set_xticklabels([\"$\" + ch + \"$\" for ch in choices], color=\"k\", size=20)\n",
    "    ax.set_yticks([i + 1 for i in range(len(choices))])\n",
    "    names = [dcsn.name for dcsn in decisions]\n",
    "    ax.legend(names, bbox_to_anchor =(0.75, 1.15), ncol=3)\n"
   ]
  },
  {
   "cell_type": "code",
   "execution_count": 3,
   "id": "f6f84cdc",
   "metadata": {},
   "outputs": [],
   "source": [
    "from itertools import combinations\n",
    "\n",
    "\n",
    "def eval_decisions(decisions: List[Decision],\n",
    "                    choices: List[Choice], eval_func):\n",
    "    _eval = lambda d:  eval_func(d, choices)\n",
    "    decision_arr = np.array([_eval(decision.preference) for decision in decisions])\n",
    "    decision_arr = decision_arr[:,:,1].transpose().astype(int)\n",
    "    return decision_arr\n",
    "\n",
    "\n",
    "def global_pairwise_winner(decisions: List[Decision],\n",
    "                           choices: List[Choice], eval_func):\n",
    "    decision_arr = eval_decisions(decisions, choices, eval_func)\n",
    "    polls = {}\n",
    "    match_table = np.zeros(shape=[3,3])\n",
    "    for pair in list(combinations(choices, 2)):\n",
    "        indices = [choices.index(pair[0]), choices.index(pair[1])]\n",
    "        poll = np.array([(s1 > s2, s1 < s2) for s1, s2 in zip(*decision_arr[indices])])\n",
    "        poll = np.matmul(np.array([decision.weight for decision in decisions]), poll)\n",
    "        poll = list(poll)\n",
    "        polls[pair] = poll        \n",
    "        match_table[indices[0], indices[1]] = poll[0] > poll[1]\n",
    "        match_table[indices[1], indices[0]] = poll[1] > poll[0]\n",
    "    winners = np.array(choices)[match_table.sum(axis=1) == len(choices) - 1]\n",
    "    losers = np.array(choices)[match_table.sum(axis=1) == 0]    \n",
    "    return winners, losers, polls, match_table\n",
    "\n",
    "\n",
    "def eval_borda(decisions: List[Decision],\n",
    "                 choices: List[Choice], eval_func):\n",
    "    decision_arr = eval_decisions(decisions, choices, eval_func)\n",
    "    decision_arr *= np.array([decision.weight for decision in decisions])    \n",
    "    return {choice: score for choice, score in zip(choices, decision_arr.sum(axis=1))}"
   ]
  },
  {
   "cell_type": "markdown",
   "id": "a857a469",
   "metadata": {},
   "source": [
    "# 第４章　政治と選択\n",
    "\n",
    "## 単峰的順序とペア全勝者の存在\n",
    "\n",
    "下の投票状況に対し、選択肢を横軸にし、その順位を縦軸にして、それぞれの有権者の順序付けをプロットする。"
   ]
  },
  {
   "cell_type": "code",
   "execution_count": 4,
   "id": "a31de14c",
   "metadata": {},
   "outputs": [
    {
     "data": {
      "text/plain": [
       "[Decision(name='Satou', preference=['c_0', 'c_1', 'c_2'], weight=1),\n",
       " Decision(name='Takahashi', preference=['c_1', 'c_2', 'c_0'], weight=1),\n",
       " Decision(name='Nakano', preference=['c_2', 'c_0', 'c_1'], weight=1)]"
      ]
     },
     "execution_count": 4,
     "metadata": {},
     "output_type": "execute_result"
    }
   ],
   "source": [
    "choices = [\"c_0\", \"c_1\", \"c_2\"]\n",
    "decisions = [Decision(\"Satou\", [choices[0], choices[1], choices[2]], 1),\n",
    "            Decision(\"Takahashi\", [choices[1], choices[2], choices[0]], 1),\n",
    "            Decision(\"Nakano\", [choices[2], choices[0], choices[1]], 1)]\n",
    "decisions"
   ]
  },
  {
   "cell_type": "code",
   "execution_count": 5,
   "id": "f486a80e",
   "metadata": {},
   "outputs": [],
   "source": [
    "def render_to_latex(decisions: List[Decision]):\n",
    "    return [Decision(dcsn.name, [\"$\" + e + \"$\" for e in dcsn.preference], dcsn.weight) for dcsn in decisions]"
   ]
  },
  {
   "cell_type": "code",
   "execution_count": 6,
   "id": "36b9f910",
   "metadata": {},
   "outputs": [
    {
     "data": {
      "text/html": [
       "<div>\n",
       "<style scoped>\n",
       "    .dataframe tbody tr th:only-of-type {\n",
       "        vertical-align: middle;\n",
       "    }\n",
       "\n",
       "    .dataframe tbody tr th {\n",
       "        vertical-align: top;\n",
       "    }\n",
       "\n",
       "    .dataframe thead th {\n",
       "        text-align: right;\n",
       "    }\n",
       "</style>\n",
       "<table border=\"1\" class=\"dataframe\">\n",
       "  <thead>\n",
       "    <tr style=\"text-align: right;\">\n",
       "      <th></th>\n",
       "      <th>Satou</th>\n",
       "      <th>Takahashi</th>\n",
       "      <th>Nakano</th>\n",
       "    </tr>\n",
       "  </thead>\n",
       "  <tbody>\n",
       "    <tr>\n",
       "      <th>1位</th>\n",
       "      <td>$c_0$</td>\n",
       "      <td>$c_1$</td>\n",
       "      <td>$c_2$</td>\n",
       "    </tr>\n",
       "    <tr>\n",
       "      <th>2位</th>\n",
       "      <td>$c_1$</td>\n",
       "      <td>$c_2$</td>\n",
       "      <td>$c_0$</td>\n",
       "    </tr>\n",
       "    <tr>\n",
       "      <th>3位</th>\n",
       "      <td>$c_2$</td>\n",
       "      <td>$c_0$</td>\n",
       "      <td>$c_1$</td>\n",
       "    </tr>\n",
       "  </tbody>\n",
       "</table>\n",
       "</div>"
      ],
      "text/plain": [
       "    Satou Takahashi Nakano\n",
       "1位  $c_0$     $c_1$  $c_2$\n",
       "2位  $c_1$     $c_2$  $c_0$\n",
       "3位  $c_2$     $c_0$  $c_1$"
      ]
     },
     "execution_count": 6,
     "metadata": {},
     "output_type": "execute_result"
    }
   ],
   "source": [
    "df = pd.DataFrame({dcsn.name: dcsn.preference for dcsn in render_to_latex(decisions)},index=[\"1位\", \"2位\", \"3位\"])\n",
    "df"
   ]
  },
  {
   "cell_type": "code",
   "execution_count": 7,
   "id": "c28c1689",
   "metadata": {
    "scrolled": false
   },
   "outputs": [
    {
     "data": {
      "image/png": "[encoded data removed]",
      "text/plain": [
       "<Figure size 432x288 with 1 Axes>"
      ]
     },
     "metadata": {
      "needs_background": "light"
     },
     "output_type": "display_data"
    }
   ],
   "source": [
    "plot_decisions(decisions, choices)"
   ]
  },
  {
   "cell_type": "code",
   "execution_count": 8,
   "id": "017a0ec6",
   "metadata": {},
   "outputs": [
    {
     "name": "stdout",
     "output_type": "stream",
     "text": [
      "Pairwise winners []\n",
      "Pairwise losers []\n",
      "{('c_0', 'c_1'): [2, 1], ('c_0', 'c_2'): [1, 2], ('c_1', 'c_2'): [2, 1]}\n",
      "[[0. 1. 0.]\n",
      " [0. 0. 1.]\n",
      " [1. 0. 0.]]\n"
     ]
    },
    {
     "data": {
      "text/html": [
       "<div>\n",
       "<style scoped>\n",
       "    .dataframe tbody tr th:only-of-type {\n",
       "        vertical-align: middle;\n",
       "    }\n",
       "\n",
       "    .dataframe tbody tr th {\n",
       "        vertical-align: top;\n",
       "    }\n",
       "\n",
       "    .dataframe thead th {\n",
       "        text-align: right;\n",
       "    }\n",
       "</style>\n",
       "<table border=\"1\" class=\"dataframe\">\n",
       "  <thead>\n",
       "    <tr style=\"text-align: right;\">\n",
       "      <th></th>\n",
       "      <th>c_0</th>\n",
       "      <th>c_1</th>\n",
       "      <th>c_2</th>\n",
       "    </tr>\n",
       "  </thead>\n",
       "  <tbody>\n",
       "    <tr>\n",
       "      <th>Borda score</th>\n",
       "      <td>6</td>\n",
       "      <td>6</td>\n",
       "      <td>6</td>\n",
       "    </tr>\n",
       "  </tbody>\n",
       "</table>\n",
       "</div>"
      ],
      "text/plain": [
       "             c_0  c_1  c_2\n",
       "Borda score    6    6    6"
      ]
     },
     "execution_count": 8,
     "metadata": {},
     "output_type": "execute_result"
    }
   ],
   "source": [
    "winners, losers, polls, match_table = global_pairwise_winner(decisions, choices, borda_scoring)\n",
    "print(\"Pairwise winners\", winners)\n",
    "print(\"Pairwise losers\", losers)\n",
    "print(polls)\n",
    "print(match_table)\n",
    "pd.DataFrame(eval_borda(decisions, choices, borda_scoring), index=[\"Borda score\"])"
   ]
  },
  {
   "cell_type": "markdown",
   "id": "e268530f",
   "metadata": {},
   "source": [
    "この図の特徴は「山」と「谷」がともにあることである。\n",
    "\n",
    "Satou、Takahashi→山\n",
    "\n",
    "Nakano→谷\n",
    "\n",
    "そこで、Nakano についても山になるよう、書き換える"
   ]
  },
  {
   "cell_type": "code",
   "execution_count": 9,
   "id": "ab35bb42",
   "metadata": {
    "scrolled": false
   },
   "outputs": [
    {
     "data": {
      "text/html": [
       "<div>\n",
       "<style scoped>\n",
       "    .dataframe tbody tr th:only-of-type {\n",
       "        vertical-align: middle;\n",
       "    }\n",
       "\n",
       "    .dataframe tbody tr th {\n",
       "        vertical-align: top;\n",
       "    }\n",
       "\n",
       "    .dataframe thead th {\n",
       "        text-align: right;\n",
       "    }\n",
       "</style>\n",
       "<table border=\"1\" class=\"dataframe\">\n",
       "  <thead>\n",
       "    <tr style=\"text-align: right;\">\n",
       "      <th></th>\n",
       "      <th>Satou</th>\n",
       "      <th>Takahashi</th>\n",
       "      <th>Nakano</th>\n",
       "    </tr>\n",
       "  </thead>\n",
       "  <tbody>\n",
       "    <tr>\n",
       "      <th>1位</th>\n",
       "      <td>$c_0$</td>\n",
       "      <td>$c_1$</td>\n",
       "      <td>$c_2$</td>\n",
       "    </tr>\n",
       "    <tr>\n",
       "      <th>2位</th>\n",
       "      <td>$c_1$</td>\n",
       "      <td>$c_2$</td>\n",
       "      <td>$c_1$</td>\n",
       "    </tr>\n",
       "    <tr>\n",
       "      <th>3位</th>\n",
       "      <td>$c_2$</td>\n",
       "      <td>$c_0$</td>\n",
       "      <td>$c_0$</td>\n",
       "    </tr>\n",
       "  </tbody>\n",
       "</table>\n",
       "</div>"
      ],
      "text/plain": [
       "    Satou Takahashi Nakano\n",
       "1位  $c_0$     $c_1$  $c_2$\n",
       "2位  $c_1$     $c_2$  $c_1$\n",
       "3位  $c_2$     $c_0$  $c_0$"
      ]
     },
     "execution_count": 9,
     "metadata": {},
     "output_type": "execute_result"
    }
   ],
   "source": [
    "decisions = [Decision(\"Satou\", [choices[0], choices[1], choices[2]], 1),\n",
    "            Decision(\"Takahashi\", [choices[1], choices[2], choices[0]], 1),\n",
    "            Decision(\"Nakano\", [choices[2], choices[1], choices[0]], 1)]\n",
    "df = pd.DataFrame({dcsn.name: dcsn.preference for dcsn in render_to_latex(decisions)},index=[\"1位\", \"2位\", \"3位\"])\n",
    "df"
   ]
  },
  {
   "cell_type": "code",
   "execution_count": 10,
   "id": "3dbf6aee",
   "metadata": {
    "scrolled": false
   },
   "outputs": [
    {
     "data": {
      "image/png": "[encoded data removed]",
      "text/plain": [
       "<Figure size 432x288 with 1 Axes>"
      ]
     },
     "metadata": {
      "needs_background": "light"
     },
     "output_type": "display_data"
    }
   ],
   "source": [
    "plot_decisions(decisions, choices)"
   ]
  },
  {
   "cell_type": "code",
   "execution_count": 11,
   "id": "5ce5161c",
   "metadata": {},
   "outputs": [
    {
     "name": "stdout",
     "output_type": "stream",
     "text": [
      "Pairwise winners ['c_1']\n",
      "Pairwise losers ['c_0']\n",
      "{('c_0', 'c_1'): [1, 2], ('c_0', 'c_2'): [1, 2], ('c_1', 'c_2'): [2, 1]}\n",
      "[[0. 0. 0.]\n",
      " [1. 0. 1.]\n",
      " [1. 0. 0.]]\n"
     ]
    },
    {
     "data": {
      "text/html": [
       "<div>\n",
       "<style scoped>\n",
       "    .dataframe tbody tr th:only-of-type {\n",
       "        vertical-align: middle;\n",
       "    }\n",
       "\n",
       "    .dataframe tbody tr th {\n",
       "        vertical-align: top;\n",
       "    }\n",
       "\n",
       "    .dataframe thead th {\n",
       "        text-align: right;\n",
       "    }\n",
       "</style>\n",
       "<table border=\"1\" class=\"dataframe\">\n",
       "  <thead>\n",
       "    <tr style=\"text-align: right;\">\n",
       "      <th></th>\n",
       "      <th>c_0</th>\n",
       "      <th>c_1</th>\n",
       "      <th>c_2</th>\n",
       "    </tr>\n",
       "  </thead>\n",
       "  <tbody>\n",
       "    <tr>\n",
       "      <th>Borda score</th>\n",
       "      <td>5</td>\n",
       "      <td>7</td>\n",
       "      <td>6</td>\n",
       "    </tr>\n",
       "  </tbody>\n",
       "</table>\n",
       "</div>"
      ],
      "text/plain": [
       "             c_0  c_1  c_2\n",
       "Borda score    5    7    6"
      ]
     },
     "execution_count": 11,
     "metadata": {},
     "output_type": "execute_result"
    }
   ],
   "source": [
    "winners, losers, polls, match_table = global_pairwise_winner(decisions, choices, borda_scoring)\n",
    "print(\"Pairwise winners\", winners)\n",
    "print(\"Pairwise losers\", losers)\n",
    "print(polls)\n",
    "print(match_table)\n",
    "pd.DataFrame(eval_borda(decisions, choices, borda_scoring), index=[\"Borda score\"])"
   ]
  },
  {
   "cell_type": "markdown",
   "id": "474234bc",
   "metadata": {},
   "source": [
    "これで、すべての有権者の順序が山型になった。\n",
    "\n",
    "個人間で、順序が **単峰的** であるとは、誰についても1位の選択肢（これから **峰** と呼ぶ）が一つあり、そこから離れる選択肢を低く順序付ける事を意味する。\n",
    "\n",
    "決定を行う対象によっては、順序の単峰性を仮定するのが、妥当な場合がある。\n",
    "- 外交姿勢の選択肢として以下のものが考えられる。\n",
    "    - $c_0$ = 穏健, $c_1$ = 中間的, $c_2$ = 強硬\n",
    "    - $c_0$ = 穏健, $c_1$ = やや穏健, $c_2$ = 中間的, $c_3$ = やや強硬, $c_4$ = 強硬\n",
    "    - など\n",
    "- 税率\n",
    "    - $c_0 = 0\\%,c_1 = 2 \\%, c_2 = 4 \\%, c_3 = 6 \\%, c_4 = 8 \\%$\n",
    "    - 「自分がベストと判断する選択肢が存在して、そこから離れた選択肢は好ましくない」と考えるのが自然だろう。\n",
    "    - →単峰性の仮定\n",
    "\n",
    "今、各選択肢を支持するパーセンテージが以下のようになっていると仮定する。\n",
    "$$ q(c_0) = 45,\\; q(c_1) = 13,\\; q(c_2) = 17,\\; q(c_3) = 13,\\; q(c_4) = 12$$\n",
    "ここで、$c_i$ が峰である有権者のパーセンテージは $q(c_i)$ である。\n",
    "\n",
    "ここで、$c_0$ が峰の有権者は $c_1$ と $c_2$ では $c_1$ の方をより良い選択とするので、$c_1$ と $c_2$ のペア多数決をした場合、 $c_1$ が58％の支持があるので、$c_1$ が勝利する。以下は、 $c_1$ とその他の選択肢とのペア同士多数決の結果である\n",
    "- 55 対 45 で、 $c_1$ が $c_0$ に勝つ\n",
    "- 58 対 42 で、$c_1$ が $c_2$ に勝つ\n",
    "- 58 以上 対 42 以下で、$c_1$ が $c_3$ に勝つ\n",
    "- 58 以上 対 42 以下で、 $c_1$ が $c_4$ に勝つ\n",
    "よって、$y$ がペア全勝者である。\n",
    "\n",
    "この $y$ は、実は票の中位(median)に位置する選択肢である。\n",
    "\n",
    "こうした選択肢の事を、**中位選択肢**という。\n",
    "\n",
    "単峰性が成り立つときは、中位選択肢が必ずペア全勝者となる。この事を**中位投票者定理**という。"
   ]
  },
  {
   "cell_type": "code",
   "execution_count": 12,
   "id": "d5142f54",
   "metadata": {},
   "outputs": [
    {
     "data": {
      "image/png": "[encoded data removed]",
      "text/plain": [
       "<Figure size 432x288 with 1 Axes>"
      ]
     },
     "metadata": {
      "needs_background": "light"
     },
     "output_type": "display_data"
    }
   ],
   "source": [
    "choices = [\"c_0\", \"c_1\", \"c_2\", \"c_3\", \"c_4\"]\n",
    "decisions = [Decision(\"Satou\", [choices[1], choices[2], choices[0], choices[3], choices[4]], 1),\n",
    "            Decision(\"Takahashi\", [choices[2], choices[1], choices[3], choices[4],  choices[0]], 1)]\n",
    "plot_decisions(decisions, choices)"
   ]
  },
  {
   "cell_type": "markdown",
   "id": "73b2f24d",
   "metadata": {},
   "source": [
    "## 4.2 実証政治理論と中位投票者定理\n",
    "\n",
    "これまでは、集約ルールを「どう作れば良いか」という設計に関わる分析を行ってきた。\n",
    "\n",
    "→集約ルールの性質や、何が選び取られるべき選択肢であるかを考察してきた。\n",
    "\n",
    "本節では、「何が選ばれてしまうか」という事実解明的な分析を行う。\n",
    "\n",
    "具体的には、\n",
    "\n",
    "- 争点は一つだけ\n",
    "- 有権者間で選択肢への順序が単峰的\n",
    "- 二大政党が政策競争する\n",
    "\n",
    "この時、どのような政策が実現するかという問題を考察する(Downs, Hotelling)。\n",
    "\n",
    "今、５つの選択肢が存在し、単峰性が成り立つと仮定する。前節と同じ\n",
    "\n",
    "$$ q(c_0) = 45,\\; q(c_1) = 13,\\; q(c_2) = 17,\\; q(c_3) = 13,\\; q(c_4) = 12$$\n",
    "\n",
    "という分布を考える。\n",
    "\n",
    "ここで、二大政党 $P_0, P_1$ があったとして、彼らが政策として掲げる選択肢を選び取る状況を考えてみよう。\n",
    "\n",
    "有権者は選挙において、自らの峰に近い方の政策を掲げる政党に票を入れるものとする。\n",
    "\n",
    "今、一方の政党 $P_0$ が $c_1$ を、他方の政党 $P_1$ が $c_2$ を政策として掲げたとする。すると、\n",
    "- $c_0$ の支持者は、$c_1$ が最も近いので、$P_0$ に投票する。よって、$P_0$ は58％の票をゲットする。\n",
    "- $c_3, c_4$ の支持者は、$c_2$ が最も近いので、$P_1$ に投票する。よって、$P_1$ は42％の票をゲットする。\n",
    "\n",
    "よって、この場合、政党 $P_0$ が勝つ。\n",
    "\n",
    "実際、$c_1$ は、他のどの政策にも勝てる（$c_1$ はペア全勝者である）。\n",
    "\n",
    "即ち、政策 $c_1$ を掲げた政党は必ず勝つことになる。\n",
    "\n",
    "このことにより、両政党の政策はともに $c_1$ へ収束する。よって、両政党が同じ政策を掲げる事になり、$c_1$ は実現されることになる。\n",
    "\n",
    "これは、二大政党の政策基本ラインが似通ったものになる事が多いことの、有力な説明となる。\n",
    "\n",
    "二大政党による政策競争が、ペア全勝者である中位選択肢を実現させることも、中位投票者定理という。\n",
    "\n",
    "民意の反映として、ペア全勝者を選ぶことを選挙の目的とするならば、二大政党による政策競争の機能は優れていると言える。\n",
    "しかし同時にこの定理は、良くも悪くも、中位選択肢として現れる「民意」に迎合せねば選挙で勝てないという強い圧力を表すものとしても読める。"
   ]
  },
  {
   "cell_type": "markdown",
   "id": "0b778715",
   "metadata": {},
   "source": [
    "## 4.3 メカニズムデザインと中位ルール\n",
    "\n",
    "共用スペースでの喫煙ルールを決める投票の例。\n",
    "\n",
    "- 嫌煙者と喫煙者は逆の思惑\n",
    "    - 嫌煙者は全面禁煙を望む\n",
    "    - 喫煙者は少しでも喫煙可能なよう望む\n",
    "- 喫煙者は、全面禁煙に対し、折衷案＝時間喫煙案を提出\n",
    "    - 一部の非喫煙者が同意\n",
    "- これにより、全面喫煙案に時間喫煙案が勝つ予定だった\n",
    "- しかし、投票間際に、喫煙者側から3つ目の選択肢「全面喫煙」案が出される\n",
    "- これにより、時間喫煙案の支持者の票が割れ、全面禁煙案が勝利した。"
   ]
  },
  {
   "cell_type": "code",
   "execution_count": 13,
   "id": "914b21b0",
   "metadata": {},
   "outputs": [
    {
     "data": {
      "text/html": [
       "<div>\n",
       "<style scoped>\n",
       "    .dataframe tbody tr th:only-of-type {\n",
       "        vertical-align: middle;\n",
       "    }\n",
       "\n",
       "    .dataframe tbody tr th {\n",
       "        vertical-align: top;\n",
       "    }\n",
       "\n",
       "    .dataframe thead th {\n",
       "        text-align: right;\n",
       "    }\n",
       "</style>\n",
       "<table border=\"1\" class=\"dataframe\">\n",
       "  <thead>\n",
       "    <tr style=\"text-align: right;\">\n",
       "      <th></th>\n",
       "      <th>Group A: 4人</th>\n",
       "      <th>Group B: 2人</th>\n",
       "      <th>Group C: 3人</th>\n",
       "    </tr>\n",
       "  </thead>\n",
       "  <tbody>\n",
       "    <tr>\n",
       "      <th>1位</th>\n",
       "      <td>Complete Ban</td>\n",
       "      <td>Partial Ban</td>\n",
       "      <td>No Ban</td>\n",
       "    </tr>\n",
       "    <tr>\n",
       "      <th>2位</th>\n",
       "      <td>Partial Ban</td>\n",
       "      <td>Complete Ban</td>\n",
       "      <td>Partial Ban</td>\n",
       "    </tr>\n",
       "    <tr>\n",
       "      <th>3位</th>\n",
       "      <td>No Ban</td>\n",
       "      <td>No Ban</td>\n",
       "      <td>Complete Ban</td>\n",
       "    </tr>\n",
       "  </tbody>\n",
       "</table>\n",
       "</div>"
      ],
      "text/plain": [
       "     Group A: 4人   Group B: 2人   Group C: 3人\n",
       "1位  Complete Ban   Partial Ban        No Ban\n",
       "2位   Partial Ban  Complete Ban   Partial Ban\n",
       "3位        No Ban        No Ban  Complete Ban"
      ]
     },
     "execution_count": 13,
     "metadata": {},
     "output_type": "execute_result"
    }
   ],
   "source": [
    "choices = [\"Complete Ban\", \"Partial Ban\", \"No Ban\"]\n",
    "decisions = [Decision(\"Group A\", [choices[0], choices[1], choices[2]], 4),\n",
    "            Decision(\"Group B\", [choices[1], choices[0], choices[2]], 2),\n",
    "            Decision(\"Group C\", [choices[2], choices[1], choices[0]], 3)]\n",
    "df = pd.DataFrame({dcsn.name + f\": {dcsn.weight}人\": dcsn.preference for dcsn in decisions},index=[\"1位\", \"2位\", \"3位\"])\n",
    "df"
   ]
  },
  {
   "cell_type": "code",
   "execution_count": 14,
   "id": "910dfcdc",
   "metadata": {
    "scrolled": false
   },
   "outputs": [
    {
     "data": {
      "image/png": "[encoded data removed]",
      "text/plain": [
       "<Figure size 432x288 with 1 Axes>"
      ]
     },
     "metadata": {
      "needs_background": "light"
     },
     "output_type": "display_data"
    }
   ],
   "source": [
    "plot_decisions(decisions, choices)"
   ]
  },
  {
   "cell_type": "code",
   "execution_count": 15,
   "id": "7678623a",
   "metadata": {},
   "outputs": [
    {
     "name": "stdout",
     "output_type": "stream",
     "text": [
      "Pairwise winners ['Partial Ban']\n",
      "Pairwise losers ['No Ban']\n",
      "{('Complete Ban', 'Partial Ban'): [4, 5], ('Complete Ban', 'No Ban'): [6, 3], ('Partial Ban', 'No Ban'): [6, 3]}\n",
      "[[0. 0. 1.]\n",
      " [1. 0. 1.]\n",
      " [0. 0. 0.]]\n"
     ]
    },
    {
     "data": {
      "text/html": [
       "<div>\n",
       "<style scoped>\n",
       "    .dataframe tbody tr th:only-of-type {\n",
       "        vertical-align: middle;\n",
       "    }\n",
       "\n",
       "    .dataframe tbody tr th {\n",
       "        vertical-align: top;\n",
       "    }\n",
       "\n",
       "    .dataframe thead th {\n",
       "        text-align: right;\n",
       "    }\n",
       "</style>\n",
       "<table border=\"1\" class=\"dataframe\">\n",
       "  <thead>\n",
       "    <tr style=\"text-align: right;\">\n",
       "      <th></th>\n",
       "      <th>Complete Ban</th>\n",
       "      <th>Partial Ban</th>\n",
       "      <th>No Ban</th>\n",
       "    </tr>\n",
       "  </thead>\n",
       "  <tbody>\n",
       "    <tr>\n",
       "      <th>Borda score</th>\n",
       "      <td>19</td>\n",
       "      <td>20</td>\n",
       "      <td>15</td>\n",
       "    </tr>\n",
       "  </tbody>\n",
       "</table>\n",
       "</div>"
      ],
      "text/plain": [
       "             Complete Ban  Partial Ban  No Ban\n",
       "Borda score            19           20      15"
      ]
     },
     "execution_count": 15,
     "metadata": {},
     "output_type": "execute_result"
    }
   ],
   "source": [
    "winners, losers, polls, match_table = global_pairwise_winner(decisions, choices, borda_scoring)\n",
    "print(\"Pairwise winners\", winners)\n",
    "print(\"Pairwise losers\", losers)\n",
    "print(polls)\n",
    "print(match_table)\n",
    "pd.DataFrame(eval_borda(decisions, choices, borda_scoring), index=[\"Borda score\"])"
   ]
  },
  {
   "cell_type": "markdown",
   "id": "455792aa",
   "metadata": {},
   "source": [
    "多数決に関する難点\n",
    "- 喫煙者にとって真に望ましい選択肢である全面喫煙が新たに付け加えられたせいで、彼らにとって最も望ましくない選択肢である全面禁煙が勝ってしまった。これを**結果の逆変化**という\n",
    "- 新たに $z$ が加わっても、もし $y$ を支持する非喫煙者と喫煙者が協力して $y$ に投票すれば、時間分煙を勝たせることができた。これを**戦略的操作への脆弱性**という。\n",
    "\n",
    "これらの弱点を克服する集約ルールは存在するのか？\n",
    "\n",
    "Yes, それは**中位ルール**だ。\n",
    "\n",
    "中位ルールとは、各有権者は自分の峰である選択肢に投票し、その中での中位を選び取る方法である。\n",
    "\n",
    "中位ルールでは\n",
    "- 結果の逆変化が起こらない\n",
    "- 戦略的操作を起こすインセンティブがない。\n",
    "\n",
    "中位ルールのこうした性質は**耐戦略性、連立耐戦略性**という。"
   ]
  },
  {
   "cell_type": "markdown",
   "id": "eec85384",
   "metadata": {},
   "source": [
    "## 4.4 ボルダルールについての補足\n",
    "\n",
    "単峰性が成り立つときにボルダルールについて考察することは、ほとんど行われていない。\n",
    "\n",
    "一般に\n",
    "\n",
    "単峰性 ⇒ ボルダ勝者＝ペア全勝者\n",
    "\n",
    "ではない。\n",
    "\n",
    "単峰生が成り立つときの、ボルダ勝者とペア全勝者が一致する条件は...\n",
    "- 選択肢の集合が無限集合の時は与えられている\n",
    "- 有限集合の場合は？\n",
    "    - 多分、分かっていない。\n",
    "- 単峰性が成り立つときの、ボルダルールの性質については、ほとんど明らかにされていない。\n",
    "\n",
    "以下は、単峰性があるが、ボルダ勝者とペア全勝者が一致しない例。"
   ]
  },
  {
   "cell_type": "code",
   "execution_count": 16,
   "id": "ad992a35",
   "metadata": {},
   "outputs": [
    {
     "data": {
      "text/html": [
       "<div>\n",
       "<style scoped>\n",
       "    .dataframe tbody tr th:only-of-type {\n",
       "        vertical-align: middle;\n",
       "    }\n",
       "\n",
       "    .dataframe tbody tr th {\n",
       "        vertical-align: top;\n",
       "    }\n",
       "\n",
       "    .dataframe thead th {\n",
       "        text-align: right;\n",
       "    }\n",
       "</style>\n",
       "<table border=\"1\" class=\"dataframe\">\n",
       "  <thead>\n",
       "    <tr style=\"text-align: right;\">\n",
       "      <th></th>\n",
       "      <th>Group A: 3人</th>\n",
       "      <th>Group B: 4人</th>\n",
       "    </tr>\n",
       "  </thead>\n",
       "  <tbody>\n",
       "    <tr>\n",
       "      <th>1位</th>\n",
       "      <td>$c_1$</td>\n",
       "      <td>$c_2$</td>\n",
       "    </tr>\n",
       "    <tr>\n",
       "      <th>2位</th>\n",
       "      <td>$c_0$</td>\n",
       "      <td>$c_1$</td>\n",
       "    </tr>\n",
       "    <tr>\n",
       "      <th>3位</th>\n",
       "      <td>$c_2$</td>\n",
       "      <td>$c_0$</td>\n",
       "    </tr>\n",
       "  </tbody>\n",
       "</table>\n",
       "</div>"
      ],
      "text/plain": [
       "   Group A: 3人 Group B: 4人\n",
       "1位       $c_1$       $c_2$\n",
       "2位       $c_0$       $c_1$\n",
       "3位       $c_2$       $c_0$"
      ]
     },
     "execution_count": 16,
     "metadata": {},
     "output_type": "execute_result"
    }
   ],
   "source": [
    "choices = [\"c_0\", \"c_1\", \"c_2\"]\n",
    "decisions = [Decision(\"Group A\", [choices[1], choices[0], choices[2]], 3),\n",
    "            Decision(\"Group B\", [choices[2], choices[1], choices[0]], 4)]\n",
    "df = pd.DataFrame({dcsn.name + f\": {dcsn.weight}人\": dcsn.preference for dcsn in render_to_latex(decisions)},index=[\"1位\", \"2位\", \"3位\"])\n",
    "df"
   ]
  },
  {
   "cell_type": "code",
   "execution_count": 17,
   "id": "7d414865",
   "metadata": {},
   "outputs": [
    {
     "data": {
      "image/png": "[encoded data removed]",
      "text/plain": [
       "<Figure size 432x288 with 1 Axes>"
      ]
     },
     "metadata": {
      "needs_background": "light"
     },
     "output_type": "display_data"
    }
   ],
   "source": [
    "plot_decisions(decisions, choices)"
   ]
  },
  {
   "cell_type": "code",
   "execution_count": 18,
   "id": "02393c48",
   "metadata": {},
   "outputs": [
    {
     "name": "stdout",
     "output_type": "stream",
     "text": [
      "Pairwise winners ['c_2']\n",
      "Pairwise losers ['c_0']\n",
      "{('c_0', 'c_1'): [0, 7], ('c_0', 'c_2'): [3, 4], ('c_1', 'c_2'): [3, 4]}\n",
      "[[0. 0. 0.]\n",
      " [1. 0. 0.]\n",
      " [1. 1. 0.]]\n"
     ]
    },
    {
     "data": {
      "text/html": [
       "<div>\n",
       "<style scoped>\n",
       "    .dataframe tbody tr th:only-of-type {\n",
       "        vertical-align: middle;\n",
       "    }\n",
       "\n",
       "    .dataframe tbody tr th {\n",
       "        vertical-align: top;\n",
       "    }\n",
       "\n",
       "    .dataframe thead th {\n",
       "        text-align: right;\n",
       "    }\n",
       "</style>\n",
       "<table border=\"1\" class=\"dataframe\">\n",
       "  <thead>\n",
       "    <tr style=\"text-align: right;\">\n",
       "      <th></th>\n",
       "      <th>c_0</th>\n",
       "      <th>c_1</th>\n",
       "      <th>c_2</th>\n",
       "    </tr>\n",
       "  </thead>\n",
       "  <tbody>\n",
       "    <tr>\n",
       "      <th>Borda score</th>\n",
       "      <td>10</td>\n",
       "      <td>17</td>\n",
       "      <td>15</td>\n",
       "    </tr>\n",
       "  </tbody>\n",
       "</table>\n",
       "</div>"
      ],
      "text/plain": [
       "             c_0  c_1  c_2\n",
       "Borda score   10   17   15"
      ]
     },
     "execution_count": 18,
     "metadata": {},
     "output_type": "execute_result"
    }
   ],
   "source": [
    "winners, losers, polls, match_table = global_pairwise_winner(decisions, choices, borda_scoring)\n",
    "print(\"Pairwise winners\", winners)\n",
    "print(\"Pairwise losers\", losers)\n",
    "print(polls)\n",
    "print(match_table)\n",
    "# pd.DataFrame({\"$\" + key + \"$\": val for key, val in eval_borda(decisions, choices, borda_scoring).items()}, index=[\"Borda score\"])\n",
    "pd.DataFrame(eval_borda(decisions, choices, borda_scoring), index=[\"Borda score\"])"
   ]
  },
  {
   "cell_type": "markdown",
   "id": "3fd9fb7e",
   "metadata": {},
   "source": [
    "# 4.5 Ostrogorsky と Anscombe のパラドックス\n",
    "\n",
    "本節では争点が複数存在する時に生じる２つのパラドックスについて紹介する。\n",
    "\n",
    "単峰性と明示的な関係があるわけではないが、議論が比較的近いのでここで扱う。\n",
    "\n",
    "民主主義社会では、有権者が直接的に政策の立案や決定に関わるのではなく、政治家の選出を通じて間接的に関わることが多い(**間接選挙**)。\n",
    "\n",
    "*間接選挙の難点は、財政、外交、環境など多数の重要な争点が存在する時にも、個別の争点ごとにではなく、一人の候補にすべての争点を託して投票せねばならないことだ。*\n",
    "\n",
    "しかし、選挙でかった政治家が、自らを民意の反映と位置づけて、自身のあらゆる政策を正当化するのは珍しいことではない。\n",
    "\n",
    "Rae and Dault (1976)は、これが大きな過ちであることを、次のような例を用い指摘し、この事例を**オストロゴルスキーのパラドックス**と名付けた（Moisey Yakovlevich Ostrogorsky, 1854-1921 https://en.wikipedia.org/wiki/Moisey_Ostrogorsky#Works）\n",
    "\n",
    "\n",
    "## Ostrogorsky のパラドックス\n",
    "\n",
    "- 今、財政・外交・環境が争点になっている間接選挙を考える\n",
    "- 有権者は５人\n",
    "- 政党は $x$ と $y$ の２つが存在する\n",
    "- それぞれの有権者は下のような選択をしているとする\n",
    "- 全ての有権者にとって、３つ政策の重要さは等しいと仮定する\n",
    "    - 例えば、有権者1は財政と外交では$x$を、環境では$y$を支持し、総合的には$x$を支持している事がわかる\n",
    "\n",
    "|          | 財政 | 外交 | 環境 | 支持政党 |\n",
    "|----------|------|------|------|----------|\n",
    "| 有権者1  | $x$  | $x$  | $y$  | $x$      |\n",
    "| 有権者2  | $x$  | $y$  | $x$  | $x$      |\n",
    "| 有権者3  | $y$  | $x$  | $x$  | $x$      |\n",
    "| 有権者4  | $y$  | $y$  | $y$  | $y$      |\n",
    "| 有権者5  | $y$  | $y$  | $y$  | $y$      |\n",
    "|          |      |      |      |          |\n",
    "| 多数決   | $y$  | $y$  | $y$  | $x$      |\n",
    "\n",
    "ここで、政党について多数決を行えば、政党$x$が勝利する。一方、テーマごとに多数決をすれば全てのテーマで$y$が勝利する。\n",
    "\n",
    "間接選挙と、直接選挙では結果が真逆になってしまっている！\n",
    "\n",
    "このパラドックスは、間接選挙で選ばれた政治家は全県委任されたわけでは決してないこと、そして争点が多数の場合にはテーマごとに直接選挙をしたほうが良い可能性を示唆している。\n",
    "\n",
    "## Anscombe のパラドックス\n",
    "さて、今、上の例で、テーマごとに選挙（直接選挙）して、3つのテーマとも、政党$y$の政策に決まったとしよう。\n",
    "するとこの時、有権者1~3は2つのテーマに関し不満があることになる。\n",
    "これは即ち、「過半数の有権者が、過半数の政策に対して不満がある」ということになる。\n",
    "\n",
    "つまり、個別テーマについて直接選挙をしても、過半数の有権者が「全体としては好ましくない結果だ。」と感じる事態が生じうる。\n",
    "\n",
    "これを**アンスコムのパラドックス**という。\n",
    "\n",
    "Gertrude Elizabeth Margaret Anscombe (/ˈænskəm/; 18 March 1919 – 5 January 2001)\n",
    "- https://en.wikipedia.org/wiki/G._E._M._Anscombe\n",
    "- https://web.math.utk.edu/~wagner/papers/anscombe.pdf"
   ]
  },
  {
   "cell_type": "markdown",
   "id": "2c5a1d2b",
   "metadata": {},
   "source": [
    "# 4.6 64パーセント多数決と改憲\n",
    "本節では、現行の状態から重要な問題を変更をする時に、何％の賛成をもって変更を認めればよいのかという問題を考察する。\n",
    "\n",
    "改憲を題材に考えてみよう。一体改憲は何％の賛成で認められるべきなのか？\n",
    "\n",
    "日本国憲法では、第九十六条が改憲の条件を定めている\n",
    "- 衆参両院で3分の2以上、その後の国民投票で過半数の賛成が求められる。\n",
    "\n",
    "いったいこれらの割合は妥当なものなのであろうか？\n",
    "\n",
    "\n",
    "例えば、憲法の条文の一つに、表現の自由に関する、以下のものがある\n",
    "```\n",
    "第二十一条　集会、結社及び言論、出版その他一切の表現の自由は、これを保障する。\n",
    "```\n",
    "この条文を変更する方法は色々あるが、中には、自由民主党の改憲草案にあるように、この表現の自由を弱めた案も存在する\n",
    "\n",
    "```\n",
    "前項の規定に関わらず、公共及び公の秩序を害することを目的とした活動を行い、並びにそれを目的として結社をすることは、認められない。\n",
    "```\n",
    "\n",
    "このように、一つのテーマに関わる条文でも、様々な書き方が可能であり、論点も複数ある。\n",
    "この事を念頭において、改憲をサイクルとの関連において論じよう。\n",
    "\n",
    "- 現行の条文は$x$とする\n",
    "- 代替案が$y$であり、過半数がこれを支持しているとする\n",
    "\n",
    "この状況で、過半数による賛成での$x$から$y$への変更は妥当か？\n",
    "\n",
    "実は過半数だけでは正当と見なすことはできない。なぜなら、別の条文$z$が存在して、\n",
    "- 過半数の有権者は$x$から$y$への変更を望む\n",
    "- 過半数の有権者は$y$から$z$への変更を望む\n",
    "- 過半数の有権者は$z$から$x$への変更を望む\n",
    "\n",
    "というサイクルが生じている可能性があるからだ。\n",
    "\n",
    "このとき、$x$から$y$に変更することを正しいと判断できない。\n",
    "\n",
    "では、何％なら正当であると言えるのだろうか？\n",
    "\n",
    "この事を Caplin and Nalebuff(1988)に従い論じていこう。（概要と結果だけ）\n",
    "\n",
    "- 論点の数: $l$\n",
    "- 一つの選択肢 $x=(x_1,\\dots,x_l)$\n",
    "- 選択肢の全体 $X=\\{x=(x_1,\\dots,x_l)|\\text{all possible } x\\}$\n",
    "- 有権者は各々最良と思う選択肢がありそこからの距離によって他の選択肢の望ましさを測る\n",
    "- その他の条件は省略\n",
    "\n",
    "何％の集票でサイクルを否定できるのか？\n",
    "\n",
    "彼らが導き出した答えは：\n",
    "$$\n",
    "1 - \\left( \\frac{l}{l+1}\\right)^l\n",
    "$$\n",
    "である。\n",
    "\n",
    "この時、$l \\rightarrow \\infty$ とすると\n",
    "$$\n",
    "\\begin{eqnarray}\n",
    "\\lim_{l \\rightarrow \\infty}\\left(1 - \\left( \\frac{l}{l+1}\\right)^l\\right) &=& \\lim_{l \\rightarrow \\infty}\\left(1 - \\frac{1}{\\left(1+\\frac{1}{l}\\right)^l}\\right)\\\\\n",
    "    &=& 1 - \\frac{1}{e}　 \\approx 0.632\n",
    "\\end{eqnarray}\n",
    "$$\n",
    "である。\n",
    "\n",
    "つまり、$l$がどのような値であっても、おおよそ$63.2%$ 以上の賛成により変更を可能とするならば、サイクルは生じ得ない。\n",
    "\n",
    "このようなルールを、**64％多数決ルール**という。\n",
    "\n",
    "条文により $l$ は変わるし、そもそも値がわからない事もあり得る。そうであれば、重大な条文を変更する時には、上限である 63.2% あたりを可決ラインとするのが適切であると言える。これは2/3に近い。改憲に2/3以上の議員の賛成を求めるのは理にかなっていると言える。\n",
    "\n",
    "しかし、国民投票では、過半数の賛成となっているので、改憲条件は適切であるとは言えない。"
   ]
  },
  {
   "cell_type": "markdown",
   "id": "31161e88",
   "metadata": {},
   "source": [
    "# 4.7 Gibbard=Satterthwaite 定理\n",
    "\n",
    "多数決のもとで有権者は、自分の票が死票となるのを避けるため次善の候補に投票することは珍しくない、\n",
    "戦略的に虚偽の意思表明を行うわけである。\n",
    "これは、有権者の行動が悪い訳ではなく、そうしなければ自分の意思を反映できない決定のルールのほうが上手く出来ていないと考えるべきだ。\n",
    "\n",
    "では、耐戦略性（他者がどのような選択であれ、自分が好きな選択をしても損をしないこと）を満たす決定の仕方は存在するのだろうか？\n",
    "\n",
    "状況によってはある。実際、単峰性がある時は中位ルールがそれであった。\n",
    "\n",
    "しかし、一般のケースでは、単峰性は成り立たない事があるし、単峰性がなければ中位ルールも定義できない。ボルダルールも戦略的操作の影響は受ける。\n",
    "\n",
    "この問題に答えを与えたのが、Gibbard と Satterthwaite である。\n",
    "\n",
    "**Theorem: 耐戦略性と満場一致性を満たすルールは独裁制だけである。**\n",
    "\n",
    "用語：\n",
    "- 独裁制\n",
    "    - ある特定の個人が存在して、他人がどのような選好を持っていようがその個人にとって一位の選択肢が社会の決定となる。\n",
    "    - この個人を **独裁** と呼ぶ。\n",
    "- 満場一致性\n",
    "    - 他の選択肢に満場一致で負ける選択肢は、社会の決定とならない。\n",
    "    - 独裁制は満場一致性を満たす。\n",
    "        - 独裁者が選んだ選択肢は、それが選ばれるし、それ以外の選択肢は選ばれることはないので、満場一致で負けていたとしてもそれが選ばれることはない\n",
    "        \n",
    "## 定理の簡単な場合の証明\n",
    "- 有権者2人、選択肢3つ\n",
    "    - 個人1,2 と $x$, $y$, $z$ で表す。\n",
    "- ３つの選択肢の順序付けは6通りある。\n",
    "    - 2人の個人の順序付けの全ての組み合わせは36通りある\n",
    "    - 全ての2人の順序付けの組み合わせを、以下のように表で書き表す\n",
    "\n",
    "| 個人1\\個人2  |(a) xyz |(b) xzy |(c) yxz |(d) yzx |(e) zxy |(f) zyx |\n",
    "|--------------|--------|--------|--------|--------|--------|--------|\n",
    "| (a) xyz      |        |        |        |        |        |        |\n",
    "| (b) xzy      |        |        |        |        |        |        |\n",
    "| (c) yxz      |        |        |        |        |        |        |\n",
    "| (d) yzx      |        |        |        |        |        |        |\n",
    "| (e) zxy      |        |        |        |        |        |        |\n",
    "| (f) zyx      |        |        |        |        |        |        |\n",
    "\n",
    "これから、これら一つ一つの状況で、どの選択肢が選ばれるかを書き込んでいく\n",
    "\n",
    "まず満場一致性から、二人とも一位の選択肢が同じ場合はその選択肢を書く\n",
    "\n",
    "| 個人1\\個人2 | (a)xyz | (b)xzy | (c)yxz | (d)yzx | (e)zxy | (f)zyx |\n",
    "|-------------|--------|--------|--------|--------|--------|--------|\n",
    "| (a)xyz      | x      | x      |        |        |        |        |\n",
    "| (b)xzy      | x      | x      |        |        |        |        |\n",
    "| (c)yxz      |        |        | y      | y      |        |        |\n",
    "| (d)yzx      |        |        | y      | y      |        |        |\n",
    "| (e)zxy      |        |        |        |        | z      | z      |\n",
    "| (f)zyx      |        |        |        |        | z      | z      |\n",
    "\n",
    "(a,d) の組み合わせを考えると{xyz}, {yzx}なので、z は y に満場一致で負けているので、この場合、 x,y のどちらかが選ばれる。\n",
    "\n",
    "ここでは、x が選ばれると仮定しよう（y が選ばれるときも同様の議論ができる。その場合、独裁者が逆になる）\n",
    "\n",
    "| 個人1\\個人2 | (a)xyz | (b)xzy | (c)yxz | (d)yzx | (e)zxy | (f)zyx |\n",
    "|-------------|--------|--------|--------|--------|--------|--------|\n",
    "| (a)xyz      | x      | x      |        | x      |        |        |\n",
    "| (b)xzy      | x      | x      |        |        |        |        |\n",
    "| (c)yxz      |        |        | y      | y      |        |        |\n",
    "| (d)yzx      |        |        | y      | y      |        |        |\n",
    "| (e)zxy      |        |        |        |        | z      | z      |\n",
    "| (f)zyx      |        |        |        |        | z      | z      |\n",
    "\n",
    "次に (b,d) を見てみよう。もしここで x 以外が選ばれたら、個人1は(b)でなく(a)を選択することによって、xを実現でき得をしてしまう。\n",
    "\n",
    "よって耐戦略性から、ここでは x が選ばれていなければならない。\n",
    "\n",
    "次に (e,d) そ見てみよう。満場一致性より、ここは x ではない。もし y ならば、個人1は(a)と申告すれば y よりはましな x を実現できるので、耐戦略性に矛盾する。よって、ここでは z が選ばれなければならない。\n",
    "\n",
    "| 個人1\\個人2 | (a)xyz | (b)xzy | (c)yxz | (d)yzx | (e)zxy | (f)zyx |\n",
    "|-------------|--------|--------|--------|--------|--------|--------|\n",
    "| (a)xyz      | x      | x      |        | x      |        |        |\n",
    "| (b)xzy      | x      | x      |        | x      |        |        |\n",
    "| (c)yxz      |        |        | y      | y      |        |        |\n",
    "| (d)yzx      |        |        | y      | y      |        |        |\n",
    "| (e)zxy      |        |        |        | z      | z      | z      |\n",
    "| (f)zyx      |        |        |        |        | z      | z      |\n",
    "\n",
    "次に、(f,d)を見てみよう。もしここで、z 以外が選ばれていたら、個人1は(e)と申告すれば z が選ばれるので、耐戦略性と矛盾。よって、z が選ばれなければならない。\n",
    "\n",
    "| 個人1\\個人2 | (a)xyz | (b)xzy | (c)yxz | (d)yzx | (e)zxy | (f)zyx |\n",
    "|-------------|--------|--------|--------|--------|--------|--------|\n",
    "| (a)xyz      | x      | x      |        | x      |        |        |\n",
    "| (b)xzy      | x      | x      |        | x      |        |        |\n",
    "| (c)yxz      |        |        | y      | y      |        |        |\n",
    "| (d)yzx      |        |        | y      | y      |        |        |\n",
    "| (e)zxy      |        |        |        | z      | z      | z      |\n",
    "| (f)zyx      |        |        |        | z      | z      | z      |\n",
    "\n",
    "票を見て分かるように、個人2が(d)と申告する限りにおいては、個人1が一位する選択肢が必ず社会的選択肢になっている。\n",
    "つまり、個人1が独裁者である雰囲気が漂ってきた。\n",
    "\n",
    "次は、個人2の視点からマス目を埋めていこう。\n",
    "\n",
    "(a,d)では、個人2にとって最悪の x が選ばれている。 そこで、(a,-)行の他の場合で、 x 以外の選択肢が選ばれれば、個人2は虚偽に得をしてしまう。\n",
    "よって他の(a,-)行でも x が選ばれなければならない。\n",
    "\n",
    "同様のことが (b,-)行でも起こる。よって\n",
    "\n",
    "| 個人1\\個人2 | (a)xyz | (b)xzy | (c)yxz | (d)yzx | (e)zxy | (f)zyx |\n",
    "|-------------|--------|--------|--------|--------|--------|--------|\n",
    "| (a)xyz      | x      | x      | x      | x      | x      | x      |\n",
    "| (b)xzy      | x      | x      | x      | x      | x      | x      |\n",
    "| (c)yxz      |        |        | y      | y      |        |        |\n",
    "| (d)yzx      |        |        | y      | y      |        |        |\n",
    "| (e)zxy      |        |        |        | z      | z      | z      |\n",
    "| (f)zyx      |        |        |        | z      | z      | z      |\n",
    "\n",
    "となる。\n",
    "\n",
    "次いで、(f,c)を見てみよう。満場一致性から、xは選ばれない。\n",
    "\n",
    "もしここで、 y が選ばれるならば、(f,d)の状況の時に、個人2が(c)に申告を変える事により得をしてしまう。よって、ここでは、z が選ばれなければならない。\n",
    "\n",
    "また、(e,c)でも、z 以外が選ばれるなら、個人1は(f)に変更することにより得をしてしまう。よって、z が選ばれなければならない。\n",
    "更に、(e,c)や(f,c)の時に、個人2に(a)や(b)と選択させないためには、全ての場合で　z が選ばれなければならない。\n",
    "\n",
    "| 個人1\\個人2 | (a)xyz | (b)xzy | (c)yxz | (d)yzx | (e)zxy | (f)zyx |\n",
    "|-------------|--------|--------|--------|--------|--------|--------|\n",
    "| (a)xyz      | x      | x      | x      | x      | x      | x      |\n",
    "| (b)xzy      | x      | x      | x      | x      | x      | x      |\n",
    "| (c)yxz      |        |        | y      | y      |        |        |\n",
    "| (d)yzx      |        |        | y      | y      |        |        |\n",
    "| (e)zxy      | z      | z      | z      | z      | z      | z      |\n",
    "| (f)zyx      | z      | z      | z      | z      | z      | z      |\n",
    "\n",
    "次いで、(d,a)を見よう。満場一致性から z は選ばれない。\n",
    "\n",
    "もしここで、x が選ばれると、 個人1は(e)や(f)を申告して得をしてしまう。よって、y でなければならない。\n",
    "\n",
    "一方、(c,a)でもし y 以外が選ばれるなら、個人1は (d) を申告すれば得をするので、ここも y でなければならない。\n",
    "\n",
    "| 個人1\\個人2 | (a)xyz | (b)xzy | (c)yxz | (d)yzx | (e)zxy | (f)zyx |\n",
    "|-------------|--------|--------|--------|--------|--------|--------|\n",
    "| (a)xyz      | x      | x      | x      | x      | x      | x      |\n",
    "| (b)xzy      | x      | x      | x      | x      | x      | x      |\n",
    "| (c)yxz      | y      |        | y      | y      |        |        |\n",
    "| (d)yzx      | y      |        | y      | y      |        |        |\n",
    "| (e)zxy      | z      | z      | z      | z      | z      | z      |\n",
    "| (f)zyx      | z      | z      | z      | z      | z      | z      |\n",
    "\n",
    "(c,b)を見てみよう。満場一致性から z は選ばれない。x が選ばれると(c,a)で個人2が(a)から(b)に変えることで得をしてしまうので、耐戦略性に矛盾。よって、y が選ばれる。そして、ここが y である事により(d,b)で y 以外が選ばれると個人1は (d)->(c)とすることで得をしてしまうのでだめ。よって、ここも y。\n",
    "\n",
    "| 個人1\\個人2 | (a)xyz | (b)xzy | (c)yxz | (d)yzx | (e)zxy | (f)zyx |\n",
    "|-------------|--------|--------|--------|--------|--------|--------|\n",
    "| (a)xyz      | x      | x      | x      | x      | x      | x      |\n",
    "| (b)xzy      | x      | x      | x      | x      | x      | x      |\n",
    "| (c)yxz      | y      | y      | y      | y      |        |        |\n",
    "| (d)yzx      | y      | y      | y      | y      |        |        |\n",
    "| (e)zxy      | z      | z      | z      | z      | z      | z      |\n",
    "| (f)zyx      | z      | z      | z      | z      | z      | z      |\n",
    "\n",
    "(c,-)行、(d,-)行の残りの升目についても同様に、耐戦略性との矛盾から、y を選ばなければならない事がわかるので結局\n",
    "\n",
    "| 個人1\\個人2 | (a)xyz | (b)xzy | (c)yxz | (d)yzx | (e)zxy | (f)zyx |\n",
    "|-------------|--------|--------|--------|--------|--------|--------|\n",
    "| (a)xyz      | x      | x      | x      | x      | x      | x      |\n",
    "| (b)xzy      | x      | x      | x      | x      | x      | x      |\n",
    "| (c)yxz      | y      | y      | y      | y      | y      | y      |\n",
    "| (d)yzx      | y      | y      | y      | y      | y      | y      |\n",
    "| (e)zxy      | z      | z      | z      | z      | z      | z      |\n",
    "| (f)zyx      | z      | z      | z      | z      | z      | z      |\n",
    "\n",
    "となるが、この結果を見ると、どのマス目にも個人1が一位とした選択肢が入っている。すなわち、個人1が独裁者であることになる。\n",
    "\n",
    "この証明の発端は (a,d)において選ばれる選択肢が、個人1に取ってより好ましい x とした事であった。その時に個人1が独裁者となるわけだ。\n",
    "\n",
    "もし、ここで y を選んでいれば、上の議論と同様の証明で、 個人2が独裁者になることが示せる。また満場一致性から z とは書けないのであった。\n",
    "\n",
    "よって、耐戦略性と満場一致性を求めると、どちらかの個人が独裁者になる。"
   ]
  }
 ],
 "metadata": {
  "kernelspec": {
   "display_name": "Python 3 (ipykernel)",
   "language": "python",
   "name": "python3"
  },
  "language_info": {
   "codemirror_mode": {
    "name": "ipython",
    "version": 3
   },
   "file_extension": ".py",
   "mimetype": "text/x-python",
   "name": "python",
   "nbconvert_exporter": "python",
   "pygments_lexer": "ipython3",
   "version": "3.10.4"
  }
 },
 "nbformat": 4,
 "nbformat_minor": 5
}
