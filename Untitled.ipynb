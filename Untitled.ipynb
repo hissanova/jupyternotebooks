{
 "cells": [
  {
   "cell_type": "markdown",
   "id": "2cb1500e",
   "metadata": {
    "slideshow": {
     "slide_type": "slide"
    }
   },
   "source": [
    "\n",
    "\n",
    "\n",
    "$$\\underset{イ=1}{\\overset{\\infty}{\\large{\\bf{積}}}} \\; (1-甲^{2イ}) (1 + 甲^{2イ-1}乙^2)\\left(1+\\frac{甲^{2イ-1}}{乙^2}\\right) = \\underset{ロ=-\\infty}{\\overset{\\infty}{\\large{\\bf{和}}}} \\; 甲^{ロ^2}乙^{2ロ}$$\n",
    "\n",
    "$$\\prod_{m=1}^{\\infty} (1-x^{2m}) (1 + x^{2m-1}y^2)\\left(1+\\frac{x^{2m-1}}{y^2}\\right) = \\sum_{n=-\\infty}^{\\infty} x^{n^2}y^{2n}$$\n",
    "\n",
    "\n"
   ]
  }
 ],
 "metadata": {
  "celltoolbar": "Slideshow",
  "kernelspec": {
   "display_name": "Python 3 (ipykernel)",
   "language": "python",
   "name": "python3"
  },
  "language_info": {
   "codemirror_mode": {
    "name": "ipython",
    "version": 3
   },
   "file_extension": ".py",
   "mimetype": "text/x-python",
   "name": "python",
   "nbconvert_exporter": "python",
   "pygments_lexer": "ipython3",
   "version": "3.10.4"
  }
 },
 "nbformat": 4,
 "nbformat_minor": 5
}
